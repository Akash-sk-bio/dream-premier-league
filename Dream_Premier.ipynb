{
 "cells": [
  {
   "cell_type": "markdown",
   "metadata": {
    "id": "8hjlpv4ix8LQ"
   },
   "source": [
    "# <u>Dream Premier League (DPL)</u>\n",
    "\n",
    "### A match of DPL is going on. Team Aravali has a made score of **195** for **7** in **20** overs and the opponent Team Shivalik is doing some analytics to find out what they need to do to win. You are the Data Scientist of the Team Shivalik and you have been asked to help them.\n"
   ]
  },
  {
   "cell_type": "markdown",
   "metadata": {
    "id": "JkqzpQzX54Z-"
   },
   "source": [
    "## <u>Problem 1</u>\n",
    " \n",
    "###Team Shivalik has stored the runs made by Team Aravali players in the following dictionary.\n"
   ]
  },
  {
   "cell_type": "code",
   "execution_count": 3,
   "metadata": {
    "id": "rypcBaB37JMD"
   },
   "outputs": [],
   "source": [
    "aravali ={ \"Dhoni\":25, \"Virat\":31, \"Pollard\":11, \"Rohit\": 0, \"Maxwell\":12, \"Sachin\":59, \"Sehwag\":12 }"
   ]
  },
  {
   "cell_type": "markdown",
   "metadata": {
    "id": "747H1msbg-ns"
   },
   "source": [
    "### Get the list of all players in Team Aravali\n",
    "**      **"
   ]
  },
  {
   "cell_type": "code",
   "execution_count": 6,
   "metadata": {
    "colab": {
     "base_uri": "https://localhost:8080/"
    },
    "id": "poP0TCGdhLuj",
    "outputId": "4c40cc32-79e7-4494-9cd6-1e0e9dff7a48"
   },
   "outputs": [
    {
     "name": "stdout",
     "output_type": "stream",
     "text": [
      "['Dhoni', 'Virat', 'Pollard', 'Rohit', 'Maxwell', 'Sachin', 'Sehwag']\n"
     ]
    }
   ],
   "source": [
    "# Get the list of players in Team Aravali\n",
    "print(list(aravali.keys()))\n"
   ]
  },
  {
   "cell_type": "markdown",
   "metadata": {
    "id": "YypMEr-i7fCE"
   },
   "source": [
    "## <u>Problem 2</u>\n",
    "\n",
    "### By mistake, the runs made by Rohit was recorded as <code>0</code>. Your next task is to figure out how many runs were made by Rohit and update the dictionary\n"
   ]
  },
  {
   "cell_type": "code",
   "execution_count": 9,
   "metadata": {
    "id": "DZTXlt9I51vd"
   },
   "outputs": [],
   "source": [
    "# We know the total runs\n",
    "total_runs = 195\n",
    "\n",
    "# Sum of runs made by the players from Team Aravali\n",
    "runs_according_to_aravali_dict = sum(aravali.values())\n",
    "\n",
    "# Runs made by Rohit\n",
    "rohit_runs = total_runs - runs_according_to_aravali_dict\n"
   ]
  },
  {
   "cell_type": "code",
   "execution_count": 11,
   "metadata": {
    "colab": {
     "base_uri": "https://localhost:8080/"
    },
    "id": "N46LGzE97waZ",
    "outputId": "8521670a-c7ac-4557-cd64-9d53f3e216ac"
   },
   "outputs": [
    {
     "name": "stdout",
     "output_type": "stream",
     "text": [
      "The actual runs made by Rohit is 45\n"
     ]
    }
   ],
   "source": [
    "# Print runs scored by Rohit\n",
    "print(f'The actual runs made by Rohit is {rohit_runs}')"
   ]
  },
  {
   "cell_type": "code",
   "execution_count": 15,
   "metadata": {
    "colab": {
     "base_uri": "https://localhost:8080/"
    },
    "id": "4rTAegi67zOq",
    "outputId": "4ca4a005-86a5-4ae9-9af3-44d18aa90128"
   },
   "outputs": [
    {
     "name": "stdout",
     "output_type": "stream",
     "text": [
      "{'Dhoni': 25, 'Virat': 31, 'Pollard': 11, 'Rohit': 45, 'Maxwell': 12, 'Sachin': 59, 'Sehwag': 12}\n"
     ]
    }
   ],
   "source": [
    "# Update the dictionary with correct value of runs\n",
    "aravali['Rohit'] = rohit_runs\n",
    "print(aravali)"
   ]
  },
  {
   "cell_type": "markdown",
   "metadata": {
    "id": "iM1FJFlWh7C5"
   },
   "source": [
    "## <u>Problem 3</u>\n",
    "\n",
    "#### Your next task is to find out who scored the second highest runs in Team Aravali\n"
   ]
  },
  {
   "cell_type": "code",
   "execution_count": 18,
   "metadata": {
    "colab": {
     "base_uri": "https://localhost:8080/"
    },
    "id": "YPdfTlsKiWVx",
    "outputId": "30fd0e70-67fd-4fcf-dbd6-37cff37aab31"
   },
   "outputs": [
    {
     "name": "stdout",
     "output_type": "stream",
     "text": [
      "{'Dhoni': 25, 'Virat': 31, 'Pollard': 11, 'Rohit': 45, 'Maxwell': 12, 'Sachin': 59, 'Sehwag': 12}\n"
     ]
    }
   ],
   "source": [
    "# Your code below\n",
    "aravali_copy = aravali.copy()\n",
    "\n",
    "print(aravali_copy)\n"
   ]
  },
  {
   "cell_type": "code",
   "execution_count": 20,
   "metadata": {
    "colab": {
     "base_uri": "https://localhost:8080/"
    },
    "id": "VEC8lmfDHf8G",
    "outputId": "1ecc9d18-9824-4640-cac9-dd803f4c7723"
   },
   "outputs": [
    {
     "name": "stdout",
     "output_type": "stream",
     "text": [
      "[25, 31, 11, 45, 12, 59, 12]\n",
      "59\n",
      "5\n"
     ]
    }
   ],
   "source": [
    "values=list(aravali_copy.values())\n",
    "print(values)\n",
    "\n",
    "max_runs = max(list(aravali_copy.values()))\n",
    "print(max_runs)\n",
    "\n",
    "max_run_index = list(aravali_copy.values()).index(max_runs)\n",
    "print(max_run_index)"
   ]
  },
  {
   "cell_type": "code",
   "execution_count": 22,
   "metadata": {
    "colab": {
     "base_uri": "https://localhost:8080/"
    },
    "id": "Kfs-dRYZMP9j",
    "outputId": "19f141c9-8a5c-4c49-ccb5-67e459f4a7b1"
   },
   "outputs": [
    {
     "name": "stdout",
     "output_type": "stream",
     "text": [
      "['Dhoni', 'Virat', 'Pollard', 'Rohit', 'Maxwell', 'Sachin', 'Sehwag']\n"
     ]
    }
   ],
   "source": [
    "aravali_players = list(aravali_copy.keys())\n",
    "print(aravali_players)"
   ]
  },
  {
   "cell_type": "code",
   "execution_count": 24,
   "metadata": {
    "colab": {
     "base_uri": "https://localhost:8080/"
    },
    "id": "Pu1t4AAkMcAn",
    "outputId": "b7766425-c474-4a6d-eb56-6bf6686c8f4a"
   },
   "outputs": [
    {
     "name": "stdout",
     "output_type": "stream",
     "text": [
      "Sachin\n"
     ]
    }
   ],
   "source": [
    "highest_run_scorer = aravali_players[max_run_index]\n",
    "print(highest_run_scorer)"
   ]
  },
  {
   "cell_type": "code",
   "execution_count": 26,
   "metadata": {
    "colab": {
     "base_uri": "https://localhost:8080/"
    },
    "id": "GsbBI6prMk9v",
    "outputId": "89155923-2286-4511-bc5a-4d071d76ace5"
   },
   "outputs": [
    {
     "data": {
      "text/plain": [
       "59"
      ]
     },
     "execution_count": 26,
     "metadata": {},
     "output_type": "execute_result"
    }
   ],
   "source": [
    "aravali_copy.pop(highest_run_scorer)"
   ]
  },
  {
   "cell_type": "code",
   "execution_count": 28,
   "metadata": {
    "colab": {
     "base_uri": "https://localhost:8080/"
    },
    "id": "weH4G0uLOry5",
    "outputId": "0c93a01a-5146-40e0-ee78-b1ebb4731db4"
   },
   "outputs": [
    {
     "name": "stdout",
     "output_type": "stream",
     "text": [
      "{'Dhoni': 25, 'Virat': 31, 'Pollard': 11, 'Rohit': 45, 'Maxwell': 12, 'Sehwag': 12}\n"
     ]
    }
   ],
   "source": [
    "print(aravali_copy)"
   ]
  },
  {
   "cell_type": "code",
   "execution_count": 30,
   "metadata": {
    "colab": {
     "base_uri": "https://localhost:8080/"
    },
    "id": "EVWny7FHO3He",
    "outputId": "074864e5-a186-42c0-fd99-96f1482916e0"
   },
   "outputs": [
    {
     "name": "stdout",
     "output_type": "stream",
     "text": [
      "45\n",
      "3\n"
     ]
    }
   ],
   "source": [
    "max_runs = max(list(aravali_copy.values()))\n",
    "print(max_runs)\n",
    "max_run_index = list(aravali_copy.values()).index(max_runs)\n",
    "print(max_run_index)"
   ]
  },
  {
   "cell_type": "code",
   "execution_count": 32,
   "metadata": {
    "colab": {
     "base_uri": "https://localhost:8080/"
    },
    "id": "R8CJldrqPMVJ",
    "outputId": "4d82aab2-521b-4de4-d687-f3565507f9b2"
   },
   "outputs": [
    {
     "name": "stdout",
     "output_type": "stream",
     "text": [
      "['Dhoni', 'Virat', 'Pollard', 'Rohit', 'Maxwell', 'Sehwag']\n"
     ]
    }
   ],
   "source": [
    "aravali_players = list(aravali_copy.keys())\n",
    "print(aravali_players)"
   ]
  },
  {
   "cell_type": "code",
   "execution_count": 34,
   "metadata": {
    "colab": {
     "base_uri": "https://localhost:8080/"
    },
    "id": "7Kooo2u4PTXJ",
    "outputId": "857aeb54-ecc7-4b2c-ab16-897f8fde321e"
   },
   "outputs": [
    {
     "name": "stdout",
     "output_type": "stream",
     "text": [
      "The second highest scorer from Team Aravali is Rohit\n"
     ]
    }
   ],
   "source": [
    "print(f'The second highest scorer from Team Aravali is {aravali_players[max_run_index]}')"
   ]
  },
  {
   "cell_type": "markdown",
   "metadata": {
    "id": "se80XQGBGekX"
   },
   "source": [
    "## <u>Problem 4</u>\n",
    "\n",
    "#### Just out of curiosity, you want to find out the unique runs made by Team Aravali players."
   ]
  },
  {
   "cell_type": "code",
   "execution_count": 37,
   "metadata": {
    "id": "X-XQWW4lGZaG"
   },
   "outputs": [],
   "source": [
    "# Your code below\n",
    "run_set = set(list(aravali.values()))"
   ]
  },
  {
   "cell_type": "code",
   "execution_count": 39,
   "metadata": {
    "colab": {
     "base_uri": "https://localhost:8080/"
    },
    "id": "GL56nYUzF6hs",
    "outputId": "dce2731f-c077-4d32-bcb8-7b126b13a0b0"
   },
   "outputs": [
    {
     "data": {
      "text/plain": [
       "{11, 12, 25, 31, 45, 59}"
      ]
     },
     "execution_count": 39,
     "metadata": {},
     "output_type": "execute_result"
    }
   ],
   "source": [
    "# Print the unique runs\n",
    "run_set"
   ]
  },
  {
   "cell_type": "markdown",
   "metadata": {
    "id": "IJvnHaNzeGMP"
   },
   "source": [
    "## <u>Problem 5</u>\n",
    "#### Team Shivalik has 6 fixed players and 5 slots for players who are playing good currently. Create two collections using appropriate data structure to write this 6 fixed and 5 mutable players. You can choose any player you want.\n",
    "\n",
    "#### Available Players in the squad : \n",
    "<code>['Vijay', 'Lasith', 'Dravid', 'Smith', 'Ambati', 'Hardik', 'Sushant', 'Mandeep', 'Harbhajan', 'Yuvraj', 'Jadeja','Rajeev','Amrit']\n"
   ]
  },
  {
   "cell_type": "code",
   "execution_count": 42,
   "metadata": {
    "colab": {
     "base_uri": "https://localhost:8080/"
    },
    "id": "-0hTOMTQdEXE",
    "outputId": "b017e02e-1510-4cd3-b9e2-fc0476a1e60a"
   },
   "outputs": [
    {
     "name": "stdout",
     "output_type": "stream",
     "text": [
      "('Vijay', 'Lasith', 'Dravid', 'Smith', 'Ambati', 'Hardik')\n",
      "['Sushant', 'Mandeep', 'Harbhajan', 'Yuvraj', 'Jadeja']\n"
     ]
    }
   ],
   "source": [
    "# Your code below\n",
    "fixed = ('Vijay', 'Lasith', 'Dravid', 'Smith', 'Ambati','Hardik')\n",
    "mutable = [ 'Sushant', 'Mandeep', 'Harbhajan', 'Yuvraj', 'Jadeja']\n",
    "print(fixed)\n",
    "print(mutable)"
   ]
  },
  {
   "cell_type": "code",
   "execution_count": 44,
   "metadata": {
    "colab": {
     "base_uri": "https://localhost:8080/"
    },
    "id": "1PEvrGDwfjc5",
    "outputId": "32e0917a-0360-4e84-a9a9-e4bd2cc2d242"
   },
   "outputs": [
    {
     "name": "stdout",
     "output_type": "stream",
     "text": [
      "('Vijay', 'Lasith', 'Dravid', 'Smith', 'Ambati', 'Hardik'),['Sushant', 'Mandeep', 'Harbhajan', 'Yuvraj', 'Jadeja']\n"
     ]
    }
   ],
   "source": [
    "# Print them on same line using comma to seperate them\n",
    "print(f'{fixed},{mutable}')\n"
   ]
  },
  {
   "cell_type": "code",
   "execution_count": 46,
   "metadata": {
    "colab": {
     "base_uri": "https://localhost:8080/"
    },
    "id": "HuyPOgQdQiRz",
    "outputId": "92f6d3f1-d62c-416b-c83a-84b80740d881"
   },
   "outputs": [
    {
     "name": "stdout",
     "output_type": "stream",
     "text": [
      "Help on built-in function print in module builtins:\n",
      "\n",
      "print(*args, sep=' ', end='\\n', file=None, flush=False)\n",
      "    Prints the values to a stream, or to sys.stdout by default.\n",
      "\n",
      "    sep\n",
      "      string inserted between values, default a space.\n",
      "    end\n",
      "      string appended after the last value, default a newline.\n",
      "    file\n",
      "      a file-like object (stream); defaults to the current sys.stdout.\n",
      "    flush\n",
      "      whether to forcibly flush the stream.\n",
      "\n"
     ]
    }
   ],
   "source": [
    "help(print)"
   ]
  },
  {
   "cell_type": "code",
   "execution_count": 48,
   "metadata": {
    "colab": {
     "base_uri": "https://localhost:8080/"
    },
    "id": "_a5yT-Q0RLGL",
    "outputId": "7bd8aeb6-cb4b-4798-aa3b-76ddc857bec1"
   },
   "outputs": [
    {
     "name": "stdout",
     "output_type": "stream",
     "text": [
      "('Vijay', 'Lasith', 'Dravid', 'Smith', 'Ambati', 'Hardik'),['Sushant', 'Mandeep', 'Harbhajan', 'Yuvraj', 'Jadeja']\n"
     ]
    }
   ],
   "source": [
    "print(fixed,mutable,sep=\",\")"
   ]
  },
  {
   "cell_type": "code",
   "execution_count": 50,
   "metadata": {
    "colab": {
     "base_uri": "https://localhost:8080/"
    },
    "id": "m0BqyHlKRXHC",
    "outputId": "f026a6ed-cf18-40f3-88c1-47e2b97d3488"
   },
   "outputs": [
    {
     "name": "stdout",
     "output_type": "stream",
     "text": [
      "('Vijay', 'Lasith', 'Dravid', 'Smith', 'Ambati', 'Hardik') , ['Sushant', 'Mandeep', 'Harbhajan', 'Yuvraj', 'Jadeja']\n"
     ]
    }
   ],
   "source": [
    "print(fixed,',',mutable)"
   ]
  },
  {
   "cell_type": "markdown",
   "metadata": {
    "id": "N-VdT09NfhL6"
   },
   "source": [
    "## <u>Problem 6</u>\n",
    "Try changing fixed player and mutable player\n"
   ]
  },
  {
   "cell_type": "code",
   "execution_count": 53,
   "metadata": {
    "colab": {
     "base_uri": "https://localhost:8080/",
     "height": 190
    },
    "id": "E4lN-bxbffnF",
    "outputId": "dcdf04c1-a901-4b88-c6fd-93d4057c2a47"
   },
   "outputs": [
    {
     "ename": "TypeError",
     "evalue": "'tuple' object does not support item assignment",
     "output_type": "error",
     "traceback": [
      "\u001b[1;31m---------------------------------------------------------------------------\u001b[0m",
      "\u001b[1;31mTypeError\u001b[0m                                 Traceback (most recent call last)",
      "Cell \u001b[1;32mIn[53], line 2\u001b[0m\n\u001b[0;32m      1\u001b[0m \u001b[38;5;66;03m# Change fixed player\u001b[39;00m\n\u001b[1;32m----> 2\u001b[0m fixed[\u001b[38;5;241m0\u001b[39m] \u001b[38;5;241m=\u001b[39m \u001b[38;5;124m'\u001b[39m\u001b[38;5;124mRisabh\u001b[39m\u001b[38;5;124m'\u001b[39m\n",
      "\u001b[1;31mTypeError\u001b[0m: 'tuple' object does not support item assignment"
     ]
    }
   ],
   "source": [
    "# Change fixed player\n",
    "fixed[0] = 'Risabh'"
   ]
  },
  {
   "cell_type": "code",
   "execution_count": 55,
   "metadata": {
    "colab": {
     "base_uri": "https://localhost:8080/"
    },
    "id": "mbfWHggRgYJK",
    "outputId": "556d4b68-5154-4e27-9fbd-536912377d88"
   },
   "outputs": [
    {
     "data": {
      "text/plain": [
       "['Rajeev', 'Mandeep', 'Harbhajan', 'Yuvraj', 'Jadeja']"
      ]
     },
     "execution_count": 55,
     "metadata": {},
     "output_type": "execute_result"
    }
   ],
   "source": [
    "# Change mutable player\n",
    "mutable[0] = 'Rajeev'\n",
    "mutable\n"
   ]
  },
  {
   "cell_type": "markdown",
   "metadata": {
    "id": "KHrH5V0HFFhq"
   },
   "source": [
    "## <u> Problem 7</u>\n",
    "\n",
    "#### Find out the runrate required for Team Shivalik to win (for 20 overs)<br> \n",
    "#### Hint: Runrate is runs required per over to win the match\n"
   ]
  },
  {
   "cell_type": "code",
   "execution_count": 59,
   "metadata": {
    "id": "QFd1CnS5E79X"
   },
   "outputs": [],
   "source": [
    "# Your code here\n",
    "total_runs = 195\n",
    "required_runrate = (total_runs+1)/20"
   ]
  },
  {
   "cell_type": "code",
   "execution_count": 61,
   "metadata": {
    "colab": {
     "base_uri": "https://localhost:8080/"
    },
    "id": "7f5Mnj93Ft3a",
    "outputId": "58b783a4-29b4-4f8d-ce3f-651c4c7aab4e"
   },
   "outputs": [
    {
     "name": "stdout",
     "output_type": "stream",
     "text": [
      "9.8\n"
     ]
    }
   ],
   "source": [
    "# Print the run rate\n",
    "print(required_runrate)"
   ]
  },
  {
   "cell_type": "markdown",
   "metadata": {
    "id": "uukQzwZQNwBE"
   },
   "source": [
    "## <u> Problem 8</u>\n",
    "#### You have just received a secret message form your informant stating that some players of the other team are into match fixing. You have to decode a message and inform authorities about it.<br>\n",
    "\n",
    "#### You received a string **\"skdlfjnvuerhw qefnnaosfu qrhviudhfv wuirhv adknlkxjcier vafuvhkajn iuvhsf vasuif KJSHFKJ aeuihvasf akjfhiufe\"** and index of \"i\" are going to be \"no balls\".\n",
    "\n",
    "\n",
    "### Find the first and last no ball from the string.\n"
   ]
  },
  {
   "cell_type": "code",
   "execution_count": 64,
   "metadata": {
    "colab": {
     "base_uri": "https://localhost:8080/"
    },
    "id": "bBKpyNdLUKXa",
    "outputId": "0a14a41c-444a-4721-8bcb-a1a48fd0548a"
   },
   "outputs": [
    {
     "name": "stdout",
     "output_type": "stream",
     "text": [
      "The first no ball will be delivered at the number 3\n"
     ]
    }
   ],
   "source": [
    "#First no ball\n",
    "message = \"skibhiko\"\n",
    "\n",
    "first_no_ball_number = message.index('i') + 1\n",
    "print(f'The first no ball will be delivered at the number {first_no_ball_number}')"
   ]
  },
  {
   "cell_type": "code",
   "execution_count": 66,
   "metadata": {
    "colab": {
     "base_uri": "https://localhost:8080/"
    },
    "id": "1ZugmYilUQ6c",
    "outputId": "cfb4d495-1659-4f46-99ca-30236afbe23a"
   },
   "outputs": [
    {
     "name": "stdout",
     "output_type": "stream",
     "text": [
      "okihbiks\n",
      "2\n"
     ]
    }
   ],
   "source": [
    "# Last no ball\n",
    "reverse_message = message[::-1]\n",
    "print(reverse_message)\n",
    "\n",
    "# Find the first occurrence in this reversed message\n",
    "no_ball_number = reverse_message.index('i') \n",
    "\n",
    "print(no_ball_number)"
   ]
  },
  {
   "cell_type": "code",
   "execution_count": 68,
   "metadata": {
    "colab": {
     "base_uri": "https://localhost:8080/"
    },
    "id": "8qMvmZydQAlr",
    "outputId": "0b0e8ec7-8b73-482e-dfbe-0549a99ac1c1"
   },
   "outputs": [
    {
     "name": "stdout",
     "output_type": "stream",
     "text": [
      "8\n",
      "The last no ball will be delivered at the delivery number 6\n"
     ]
    }
   ],
   "source": [
    "# Print the first and last ball numbers\n",
    "message_length = len(message)\n",
    "print(message_length)\n",
    "\n",
    "last_no_ball_number = message_length - no_ball_number\n",
    "\n",
    "print(f'The last no ball will be delivered at the delivery number {last_no_ball_number}')\n"
   ]
  },
  {
   "cell_type": "markdown",
   "metadata": {
    "id": "dOIGKmlKaV8j"
   },
   "source": [
    "## <u>Problem 9</u>\n",
    "\n",
    "### You have given the information about fixing to the authorities and they are going to verify it during the match. But still you have to work on your strategy.\n",
    "\n",
    "### It is in your hands to automate the decision on who goes on 4th position for batting depending on following criteria:\n",
    "\n",
    "* if runs made by Team Shivalik is less than 50, Smith will play\n",
    "* if runs are between 51 to 100 then Sir Jadeja will go\n",
    "* if runs are above 100 then Hardik will play\n"
   ]
  },
  {
   "cell_type": "code",
   "execution_count": 73,
   "metadata": {
    "colab": {
     "base_uri": "https://localhost:8080/"
    },
    "id": "DpnGURU1Y-Af",
    "outputId": "581addad-1036-432c-9e1e-cb9979c9109f"
   },
   "outputs": [
    {
     "name": "stdin",
     "output_type": "stream",
     "text": [
      "Enter your team run 45\n"
     ]
    }
   ],
   "source": [
    "# Your code below\n",
    "shivalik_runs = int(input('Enter your team run'))\n"
   ]
  },
  {
   "cell_type": "code",
   "execution_count": 75,
   "metadata": {
    "colab": {
     "base_uri": "https://localhost:8080/"
    },
    "id": "pBkht1dyVeeG",
    "outputId": "f6120ad9-f81e-4256-c1b5-b6a2aaa051bc"
   },
   "outputs": [
    {
     "name": "stdout",
     "output_type": "stream",
     "text": [
      "45\n"
     ]
    }
   ],
   "source": [
    "print(shivalik_runs)"
   ]
  },
  {
   "cell_type": "markdown",
   "metadata": {
    "id": "kLakmjOYmKMM"
   },
   "source": [
    "# Hurray! Turns out you won the match and the guilty players are punished as well. You should be proud of yourself!"
   ]
  },
  {
   "cell_type": "code",
   "execution_count": 78,
   "metadata": {},
   "outputs": [
    {
     "name": "stdout",
     "output_type": "stream",
     "text": [
      "Smith will play\n"
     ]
    }
   ],
   "source": [
    "\n",
    "if shivalik_runs>0 and shivalik_runs<50:\n",
    "    print(\"Smith will play\")\n",
    "elif shivalik_runs>=50 and shivalik_runs<100:\n",
    "    print(\"Sir Jadeja will go\")\n",
    "elif shivalik_runs>=100:\n",
    "    print(\"Send Hardik to bat\")\n",
    "else:\n",
    "    print(\"Invalid runs\")\n"
   ]
  }
 ],
 "metadata": {
  "colab": {
   "provenance": []
  },
  "kernelspec": {
   "display_name": "Python 3 (ipykernel)",
   "language": "python",
   "name": "python3"
  },
  "language_info": {
   "codemirror_mode": {
    "name": "ipython",
    "version": 3
   },
   "file_extension": ".py",
   "mimetype": "text/x-python",
   "name": "python",
   "nbconvert_exporter": "python",
   "pygments_lexer": "ipython3",
   "version": "3.12.4"
  }
 },
 "nbformat": 4,
 "nbformat_minor": 4
}
